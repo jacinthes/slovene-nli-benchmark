{
  "nbformat": 4,
  "nbformat_minor": 0,
  "metadata": {
    "colab": {
      "provenance": [],
      "authorship_tag": "ABX9TyMdpUS53RZYKQmrPwuGNRAn",
      "include_colab_link": true
    },
    "kernelspec": {
      "name": "python3",
      "display_name": "Python 3"
    },
    "language_info": {
      "name": "python"
    }
  },
  "cells": [
    {
      "cell_type": "markdown",
      "metadata": {
        "id": "view-in-github",
        "colab_type": "text"
      },
      "source": [
        "<a href=\"https://colab.research.google.com/github/jacinthes/slovene-nli-benchmark/blob/main/inference/slovene_nli_Inference.ipynb\" target=\"_parent\"><img src=\"https://colab.research.google.com/assets/colab-badge.svg\" alt=\"Open In Colab\"/></a>"
      ]
    },
    {
      "cell_type": "markdown",
      "source": [
        "#**Slovene NLI**"
      ],
      "metadata": {
        "id": "iFvpgLphoxLL"
      }
    },
    {
      "cell_type": "markdown",
      "source": [
        "This script demonstrates the usage of\n",
        "\n",
        "https://huggingface.co/jacinthes/cross-encoder-sloberta-si-nli-snli-mnli <br />\n",
        "or <br />\n",
        "https://huggingface.co/jacinthes/cross-encoder-sloberta-si-nli\n",
        "\n",
        "for evaluation/making predictions."
      ],
      "metadata": {
        "id": "0LXRJMltuhC6"
      }
    },
    {
      "cell_type": "code",
      "execution_count": null,
      "metadata": {
        "id": "jIoI-MyruKCV"
      },
      "outputs": [],
      "source": [
        "pip install sentence-transformers"
      ]
    },
    {
      "cell_type": "code",
      "source": [
        "from sentence_transformers import CrossEncoder\n",
        "\n",
        "model = CrossEncoder('jacinthes/cross-encoder-sloberta-si-nli-snli-mnli')\n",
        "#model = CrossEncoder('jacinthes/cross-encoder-sloberta-si-nli')"
      ],
      "metadata": {
        "id": "TQR19MN8uQkD"
      },
      "execution_count": null,
      "outputs": []
    },
    {
      "cell_type": "code",
      "source": [
        "def make_prediction(premise, hypothesis):\n",
        "  int2label = {0: 'entailment', 1: 'neutral', 2:'contradiction'}\n",
        "  return int2label[model.predict([premise, hypothesis]).argmax()]"
      ],
      "metadata": {
        "id": "I-Naie2kuxyT"
      },
      "execution_count": 8,
      "outputs": []
    },
    {
      "cell_type": "code",
      "source": [
        "while True:\n",
        "  premise = input('Premise: ')\n",
        "  hypothesis = input('Hypothesis: ')\n",
        "  prediction = make_prediction(premise, hypothesis)\n",
        "  print(f'Prediction: {prediction}\\n\\n####################\\n\\n')"
      ],
      "metadata": {
        "id": "qwbwmu13uv6_"
      },
      "execution_count": null,
      "outputs": []
    }
  ]
}